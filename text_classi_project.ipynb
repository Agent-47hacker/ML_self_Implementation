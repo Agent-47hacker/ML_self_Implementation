{
 "cells": [
  {
   "cell_type": "code",
   "execution_count": 2,
   "metadata": {},
   "outputs": [],
   "source": [
    "import nltk\n",
    "\n",
    "from nltk.corpus import stopwords \n",
    "\n",
    "from nltk.tokenize import word_tokenize \n",
    "\n",
    "from os.path import join\n",
    "\n",
    "#common words online \"list\":\n",
    "w_file='C:\\\\Users\\hello\\Desktop\\ML\\c1_stop.py'\n",
    "\n",
    "f= open(w_file,'r')\n",
    "\n",
    "lines=f.readlines()\n",
    "\n",
    "c=[]\n",
    "for i in lines:\n",
    "    c.append(i.rstrip())\n",
    "\n",
    "#example scentence\n",
    "#example_sent = \"This is a sample sentence, showing off the stop words filtration A.\"\n",
    "#common stop words nltk \"set/dictionary\":  \n",
    "stop_words = set(stopwords.words('english'))\n",
    "stop_words.update(',','.')\n",
    "\n",
    "#append set to list\n",
    "#better than update lisrt to set\n",
    "for i in stop_words:\n",
    "    if i not in c:\n",
    "        c.append(i)\n",
    "\n",
    "#convert list to set\n",
    "c=set(c)\n",
    "\n",
    "#word_tokens = word_tokenize(example_sent) \n",
    "  \n",
    "# print(c)\n",
    "\n",
    "\n",
    "# filtered_sentence = [] \n",
    "  \n",
    "# for w in word_tokens: \n",
    "#     if w.lower() not in stop_words: \n",
    "#         filtered_sentence.append(w) \n",
    "  \n",
    "# print(word_tokens) \n",
    "# print(filtered_sentence) "
   ]
  },
  {
   "cell_type": "code",
   "execution_count": 3,
   "metadata": {},
   "outputs": [],
   "source": [
    "from os import listdir\n",
    "from os.path import isfile, join\n",
    "mypath = 'C:\\\\Users\\hello\\Desktop\\ML\\datasets'\n",
    "\n",
    "# onlyfiles = [i for f in listdir(mypath) for i in listdir(join(mypath,f)) if isfile(join(mypath, f,i))]\n",
    "# onlyfiles\n",
    "r=[]\n",
    "for i in listdir(mypath):\n",
    "    a = listdir(join('C:\\\\Users\\hello\\Desktop\\ML\\datasets', i ))\n",
    "    r.append((i,a))"
   ]
  },
  {
   "cell_type": "code",
   "execution_count": 4,
   "metadata": {},
   "outputs": [],
   "source": [
    "#COMPILLING DATA FROM 20000 ACTUAL NEWS ARTICLES\n",
    "vocab={}\n",
    "for i in r:\n",
    "    #print(i[0])\n",
    "    count=0\n",
    "    for j in i[1]:\n",
    "        if count<900:\n",
    "            file = join('C:\\\\Users\\hello\\Desktop\\ML\\datasets', i[0],j )\n",
    "            f = open(file, \"r\")\n",
    "            a = f.readlines()\n",
    "            for k in a:\n",
    "                for l in k.rstrip().split():\n",
    "                    if l.lower() in stop_words:\n",
    "                        pass\n",
    "                    elif l.lower() in vocab and l.isalpha():  \n",
    "                        vocab[l.lower()]+=1\n",
    "                    elif l.lower() not in vocab and l.isalpha():vocab[l.lower()]=1\n",
    "            count+=1     \n"
   ]
  },
  {
   "cell_type": "code",
   "execution_count": 5,
   "metadata": {
    "scrolled": true
   },
   "outputs": [],
   "source": [
    "S=sorted(vocab.items(),key=lambda kv:kv[1], reverse=True)\n",
    "\n",
    "res = [[ i for i in range(len(S)) ], \n",
    "       [ j for i, j in S ]] \n",
    "\n",
    "# type(S)\n",
    "# len(S)\n",
    "# lists = sorted(vocab.items())\n",
    "\n",
    "# x, y = zip(lists)\n"
   ]
  },
  {
   "cell_type": "code",
   "execution_count": 7,
   "metadata": {},
   "outputs": [
    {
     "data": {
      "image/png": "[encoded data removed]",
      "text/plain": [
       "<Figure size 432x288 with 1 Axes>"
      ]
     },
     "metadata": {
      "needs_background": "light"
     },
     "output_type": "display_data"
    }
   ],
   "source": [
    "from matplotlib import pyplot as plt\n",
    "plt.plot(res[0],res[1])\n",
    "plt.show()\n",
    "%matplotlib inline"
   ]
  },
  {
   "cell_type": "code",
   "execution_count": 8,
   "metadata": {
    "scrolled": true
   },
   "outputs": [],
   "source": [
    "#selecting a cutoff point from above plot\n",
    "import numpy as np\n",
    "S[1500:2500]\n",
    "features = S[:2500]\n",
    "element = [i for i , j in features]\n",
    "# element\n",
    "# element.index('room')\n",
    "# row = [0 for i in range(900)]\n",
    "# row[2] = 1\n",
    "# X_test=[]\n",
    "# X_test.append([2,3,4])\n",
    "# print(X_test)"
   ]
  },
  {
   "cell_type": "code",
   "execution_count": 9,
   "metadata": {},
   "outputs": [],
   "source": [
    "#COMPILLING DATA FROM 20000 ACTUAL NEWS ARTICLES\n",
    "\n",
    "X=[]\n",
    "Y=[]\n",
    "for i in r:\n",
    "    #print(i[0])\n",
    "    count=0\n",
    "    for j in i[1]:\n",
    "        if count<900:\n",
    "            file = join('C:\\\\Users\\hello\\Desktop\\ML\\datasets', i[0],j )\n",
    "            f = open(file, \"r\")\n",
    "            a = f.readlines()\n",
    "            row=[0 for i in element]\n",
    "            Y.append(i[0])\n",
    "            for k in a:\n",
    "                for l in k.rstrip().split():\n",
    "                    if l.lower() in stop_words:\n",
    "                        pass\n",
    "                    elif l.lower() in element and l.isalpha():\n",
    "                        pos = element.index(l.lower())\n",
    "                        row[pos]+=1\n",
    "            X.append(row)  \n",
    "            count+=1\n"
   ]
  },
  {
   "cell_type": "code",
   "execution_count": 10,
   "metadata": {},
   "outputs": [
    {
     "name": "stdout",
     "output_type": "stream",
     "text": [
      "(18000, 2500) (18000,)\n"
     ]
    }
   ],
   "source": [
    "print(np.shape(X),np.shape(Y))\n",
    "\n",
    "#Y append above has i[0]\n"
   ]
  },
  {
   "cell_type": "code",
   "execution_count": 11,
   "metadata": {},
   "outputs": [
    {
     "data": {
      "text/plain": [
       "98"
      ]
     },
     "execution_count": 11,
     "metadata": {},
     "output_type": "execute_result"
    }
   ],
   "source": [
    "X_test=[]\n",
    "Y_test=[]\n",
    "for i in r:\n",
    "    #print(i[0])\n",
    "    count=0\n",
    "    for j in i[1][900:998]:\n",
    "        if count<100:\n",
    "            file = join('C:\\\\Users\\hello\\Desktop\\ML\\datasets', i[0],j )\n",
    "            f = open(file, \"r\")\n",
    "            a = f.readlines()\n",
    "            row=[0 for i in element]\n",
    "            Y_test.append(i[0])\n",
    "            for k in a:\n",
    "                for l in k.rstrip().split():\n",
    "                    if l.lower() in stop_words:\n",
    "                        pass\n",
    "                    elif l.lower() in element and l.isalpha():\n",
    "                        pos = element.index(l.lower())\n",
    "                        row[pos]+=1\n",
    "            X_test.append(row)  \n",
    "            count+=1\n",
    "count"
   ]
  },
  {
   "cell_type": "code",
   "execution_count": 12,
   "metadata": {},
   "outputs": [
    {
     "name": "stdout",
     "output_type": "stream",
     "text": [
      "(1959, 2500) (1959,)\n",
      "Wall time: 574 ms\n"
     ]
    }
   ],
   "source": [
    "%%time\n",
    "print(np.shape(X_test),np.shape(Y_test))"
   ]
  },
  {
   "cell_type": "code",
   "execution_count": 14,
   "metadata": {},
   "outputs": [],
   "source": [
    "xtest=np.array(X_test)\n",
    "ytest=np.array(Y_test)\n",
    "xtrain=np.array(X)\n",
    "ytrain=np.array(Y)\n"
   ]
  },
  {
   "cell_type": "code",
   "execution_count": 15,
   "metadata": {},
   "outputs": [],
   "source": [
    "def fit(x,y):\n",
    "    dict_={}\n",
    "    #classes\n",
    "    l=[]\n",
    "    classes=set(y)\n",
    "    for i in classes:\n",
    "        dict_[i]={}\n",
    "        current_class_rows=(y==i)\n",
    "        current_class_rows_x=x[current_class_rows]\n",
    "        current_class_rows_y=y[current_class_rows]\n",
    "        #print(len(current_class_rows_y))\n",
    "        count=0\n",
    "        feature_len=(current_class_rows_x.shape[1])\n",
    "        for j in range(feature_len):\n",
    "            dict_[i][j]=current_class_rows_x[:,j].sum()\n",
    "        dict_[i]['classtotal']=current_class_rows_x.sum()\n",
    "    return(dict_)        "
   ]
  },
  {
   "cell_type": "code",
   "execution_count": 51,
   "metadata": {},
   "outputs": [],
   "source": [
    "def predict(dict_,x,y):\n",
    "    print(y)\n",
    "    min_= -1000\n",
    "    best_class=''\n",
    "    for classes in set(dict_.keys()):\n",
    "        print(classes)\n",
    "        p=0\n",
    "        for j in range(len(x)):\n",
    "            #probabilty of word j of xtest from dict\n",
    "            if x[j] < 1:\n",
    "                continue\n",
    "            p+=(np.log(dict_[classes][j]+1)-np.log(dict_[classes]['classtotal']+2500))\n",
    "        print(p*(1/20))\n",
    "        if min_ < p:\n",
    "            min_=p\n",
    "            best_class=classes\n",
    "    return(best_class)"
   ]
  },
  {
   "cell_type": "code",
   "execution_count": 60,
   "metadata": {
    "scrolled": false
   },
   "outputs": [
    {
     "name": "stdout",
     "output_type": "stream",
     "text": [
      "alt.atheism\n",
      "comp.sys.ibm.pc.hardware\n",
      "-32.541890356891884\n",
      "rec.autos\n",
      "-30.89314417357447\n",
      "rec.motorcycles\n",
      "-31.19925100801117\n",
      "rec.sport.baseball\n",
      "-31.08704509898545\n",
      "rec.sport.hockey\n",
      "-32.18508568021732\n",
      "comp.graphics\n",
      "-32.1671331088752\n",
      "talk.politics.misc\n",
      "-29.65802799283539\n",
      "talk.politics.guns\n",
      "-30.32072113755953\n",
      "sci.electronics\n",
      "-32.01235746517669\n",
      "soc.religion.christian\n",
      "-29.072028870896588\n",
      "comp.windows.x\n",
      "-33.0989348136413\n",
      "misc.forsale\n",
      "-33.24693011642527\n",
      "comp.sys.mac.hardware\n",
      "-32.171228221493855\n",
      "talk.politics.mideast\n",
      "-30.672238304578038\n",
      "talk.religion.misc\n",
      "-29.3066846545463\n",
      "comp.os.ms-windows.misc\n",
      "-32.24135409889928\n",
      "sci.crypt\n",
      "-31.53116905761508\n",
      "sci.med\n",
      "-30.750053832705333\n",
      "sci.space\n",
      "-31.433113454779654\n",
      "alt.atheism\n",
      "-28.346538877300283\n",
      "--> alt.atheism\n"
     ]
    }
   ],
   "source": [
    "#now calling fit on #xtrain xtest ytrain ytest\n",
    "dict_=fit(xtrain,ytrain)\n",
    "c=predict(dict_,xtest[3],ytest[3])\n",
    "print('-->',c)"
   ]
  },
  {
   "cell_type": "code",
   "execution_count": 61,
   "metadata": {},
   "outputs": [
    {
     "ename": "NameError",
     "evalue": "name 'p' is not defined",
     "output_type": "error",
     "traceback": [
      "\u001b[1;31m---------------------------------------------------------------------------\u001b[0m",
      "\u001b[1;31mNameError\u001b[0m                                 Traceback (most recent call last)",
      "\u001b[1;32m<ipython-input-61-94ddc6dcf4b1>\u001b[0m in \u001b[0;36m<module>\u001b[1;34m\u001b[0m\n\u001b[1;32m----> 1\u001b[1;33m \u001b[0mp\u001b[0m\u001b[1;33m+=\u001b[0m\u001b[0mi\u001b[0m\u001b[1;33m[\u001b[0m\u001b[0mj\u001b[0m\u001b[1;33m]\u001b[0m\u001b[1;33m*\u001b[0m\u001b[1;33m(\u001b[0m\u001b[0mdict_\u001b[0m\u001b[1;33m[\u001b[0m\u001b[0mclasses\u001b[0m\u001b[1;33m]\u001b[0m\u001b[1;33m[\u001b[0m\u001b[0mj\u001b[0m\u001b[1;33m]\u001b[0m\u001b[1;33m/\u001b[0m\u001b[0mdict_\u001b[0m\u001b[1;33m[\u001b[0m\u001b[0mclasses\u001b[0m\u001b[1;33m]\u001b[0m\u001b[1;33m[\u001b[0m\u001b[1;34m'classtotal'\u001b[0m\u001b[1;33m]\u001b[0m\u001b[1;33m)\u001b[0m\u001b[1;33m\u001b[0m\u001b[1;33m\u001b[0m\u001b[0m\n\u001b[0m",
      "\u001b[1;31mNameError\u001b[0m: name 'p' is not defined"
     ]
    }
   ],
   "source": [
    "p+=i[j]*(dict_[classes][j]/dict_[classes]['classtotal'])"
   ]
  },
  {
   "cell_type": "code",
   "execution_count": null,
   "metadata": {},
   "outputs": [],
   "source": []
  }
 ],
 "metadata": {
  "kernelspec": {
   "display_name": "Python 3",
   "language": "python",
   "name": "python3"
  },
  "language_info": {
   "codemirror_mode": {
    "name": "ipython",
    "version": 3
   },
   "file_extension": ".py",
   "mimetype": "text/x-python",
   "name": "python",
   "nbconvert_exporter": "python",
   "pygments_lexer": "ipython3",
   "version": "3.7.3"
  }
 },
 "nbformat": 4,
 "nbformat_minor": 2
}
