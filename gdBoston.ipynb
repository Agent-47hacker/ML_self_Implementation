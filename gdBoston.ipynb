{
 "cells": [
  {
   "cell_type": "code",
   "execution_count": 31,
   "metadata": {},
   "outputs": [],
   "source": [
    "import numpy as np\n",
    "import pandas as pd"
   ]
  },
  {
   "cell_type": "code",
   "execution_count": 41,
   "metadata": {},
   "outputs": [],
   "source": [
    "def step_gradient(x,y,lr,m,c,n):\n",
    "    m_slope= np.zeros(13)\n",
    "    c_slope = 0\n",
    "    t=0\n",
    "    for i in range(n):\n",
    "        for j in range(13): \n",
    "            t+=m[j]*x[i][j]\n",
    "        t+=c\n",
    "        for j in range(13):\n",
    "            m_slope[j] += (-2/n)*(y[i] - t)*x[i][j]\n",
    "            c_slope+=(-2/n)*(y[i]- t)*1\n",
    "        new_m=m-learning_rate*m_slope\n",
    "        new_c=c-learning_rate*c_slope\n",
    "    return new_m,new_c"
   ]
  },
  {
   "cell_type": "code",
   "execution_count": 42,
   "metadata": {},
   "outputs": [],
   "source": [
    "def cost(x,y,m,c):\n",
    "    cost_v=0\n",
    "    n=len(x)\n",
    "    for i in range (n):\n",
    "        cost_v+=(1/n)*((y-m*x-c)**2).sum()\n",
    "    return cost_v    "
   ]
  },
  {
   "cell_type": "code",
   "execution_count": 43,
   "metadata": {},
   "outputs": [],
   "source": [
    "def gd(x,y,lr, iterations,n):\n",
    "    m = np.zeros(13)\n",
    "    c=0\n",
    "    for i in range(iterations):\n",
    "        m,c=step_gradient(x,y,lr,m,c,n)\n",
    "        print(i,'cost:',cost(x,y,m,c))\n",
    "    return m,c"
   ]
  },
  {
   "cell_type": "code",
   "execution_count": 44,
   "metadata": {
    "scrolled": false
   },
   "outputs": [
    {
     "name": "stdout",
     "output_type": "stream",
     "text": [
      "0 cost: 2822310.6502005835\n",
      "1 cost: 3349782.629738234\n",
      "2 cost: 1572960.8003254512\n",
      "3 cost: 13328470.445562914\n",
      "4 cost: 40869643.12158495\n",
      "5 cost: 1080953851.0031376\n",
      "6 cost: 14836938989.667051\n",
      "7 cost: 238191828586.23724\n",
      "8 cost: 3672843254846.9253\n",
      "9 cost: 57213904442281.12\n",
      "[ -92.62386733  -45.77433595 -347.17422699 -256.1523794   -73.62405446\n",
      " -115.49964629  -41.63710976  -41.0738187  -433.06418047 -434.40593308\n",
      "   13.11547613  289.48925279 -316.12039284] [-107731.64648806]\n"
     ]
    }
   ],
   "source": [
    "data = np.genfromtxt('training_boston_x_y_train.csv',delimiter=',')\n",
    "x=data[:380,:13]\n",
    "y=data[:380,13:14]\n",
    "lr = 0.01\n",
    "iterations=10\n",
    "n=379\n",
    "m,c=gd(x,y,lr,iterations,n)\n",
    "print(m,c)"
   ]
  },
  {
   "cell_type": "code",
   "execution_count": 39,
   "metadata": {},
   "outputs": [
    {
     "name": "stdout",
     "output_type": "stream",
     "text": [
      "[-106280.3 -105801.8 -108601.5 -110393.2 -108925.  -107647.3 -109198.1\n",
      " -109418.8 -108682.  -107635.8 -106611.8 -106197.5 -105524.1 -106013.4\n",
      " -107704.4 -109851.6 -109835.2 -108820.7 -107969.3 -106869.3 -105836.7\n",
      " -104690.  -104603.4 -103084.3 -105224.3 -104316.4 -106040.2 -105384.4\n",
      " -104127.1 -102965.7 -103217.  -104863.5 -103687.4 -102852.3 -101724.1\n",
      " -105225.5 -106707.9 -107759.4 -106391.3 -105450.3 -104565.1 -104670.8\n",
      " -103821.4 -105929.9 -105032.4 -107001.4 -106642.9 -106006.  -105972.1\n",
      " -108652.  -111194.  -110499.8 -109742.6 -109233.6 -108493.7 -110016.9\n",
      " -108970.8 -110727.6 -109563.1 -108245.9 -108452.9 -108598.  -108553.7\n",
      " -110059.4 -109279.9 -108458.3 -107388.2 -108440.8 -109420.6 -109059.2\n",
      " -109217.5 -109602.4 -111268.7 -110371.2 -108949.  -108141.3 -110999.8\n",
      " -109463.  -111690.7 -110943.1 -110165.7 -109035.5 -108155.  -107303.8\n",
      " -108446.3 -110092.6 -111670.5 -113591.4 -112960.6 -113437.5 -115070.9\n",
      " -113808.8 -115410.1 -113860.5 -114107.1 -113144.2 -112160.8 -110899.2\n",
      " -110809.1 -109841.2 -110023.6 -108978.4 -108042.2 -109669.  -108872.7\n",
      " -110634.6 -109587.1 -111301.8 -111628.5 -111195.2 -109836.9 -109122.3\n",
      " -110608.1 -110705.4 -112452.7 -111223.3 -110220.9 -111760.5 -114705.1\n",
      " -117475.4 -116647.9 -115487.6 -114157.2 -115810.4 -114663.1 -113334.6\n",
      " -114802.6]\n"
     ]
    }
   ],
   "source": [
    "test_data=np.genfromtxt('test_boston_x_test.csv',delimiter=',')\n",
    "pred_y=np.zeros(127)\n",
    "l=0\n",
    "for i in range (127):\n",
    "    for j in range(12):\n",
    "        l+=x[i][j]*m[j]\n",
    "    pred_y[i]=l+c\n",
    "print(np.around(pred_y,decimals = 1))\n",
    "np.savetxt('predictions_boston.csv',pred_y , delimiter=',')"
   ]
  },
  {
   "cell_type": "code",
   "execution_count": null,
   "metadata": {},
   "outputs": [],
   "source": []
  }
 ],
 "metadata": {
  "kernelspec": {
   "display_name": "Python 3",
   "language": "python",
   "name": "python3"
  },
  "language_info": {
   "codemirror_mode": {
    "name": "ipython",
    "version": 3
   },
   "file_extension": ".py",
   "mimetype": "text/x-python",
   "name": "python",
   "nbconvert_exporter": "python",
   "pygments_lexer": "ipython3",
   "version": "3.7.3"
  }
 },
 "nbformat": 4,
 "nbformat_minor": 2
}
