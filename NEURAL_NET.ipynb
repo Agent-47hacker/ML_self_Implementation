{
 "cells": [
  {
   "cell_type": "markdown",
   "metadata": {},
   "source": [
    "<h1>OR Gate ,No hidden layer</h1>"
   ]
  },
  {
   "cell_type": "code",
   "execution_count": 49,
   "metadata": {},
   "outputs": [],
   "source": [
    "import numpy as np"
   ]
  },
  {
   "cell_type": "code",
   "execution_count": 55,
   "metadata": {},
   "outputs": [
    {
     "data": {
      "text/plain": [
       "((4, 2), (4, 1))"
      ]
     },
     "execution_count": 55,
     "metadata": {},
     "output_type": "execute_result"
    }
   ],
   "source": [
    "x = np.array([[0,0],[0,1],[1,0],[1,1]])\n",
    "y = np.array([[0,0,0,1]]).T\n",
    "x.shape,y.shape"
   ]
  },
  {
   "cell_type": "code",
   "execution_count": 56,
   "metadata": {},
   "outputs": [],
   "source": [
    "def sigmoid(z):\n",
    "    return 1/(1+(np.exp(-z)))"
   ]
  },
  {
   "cell_type": "code",
   "execution_count": 57,
   "metadata": {},
   "outputs": [],
   "source": [
    "def derivativeSig(z):\n",
    "    return sigmoid(z)*(1 - sigmoid(z))"
   ]
  },
  {
   "cell_type": "code",
   "execution_count": 58,
   "metadata": {},
   "outputs": [
    {
     "data": {
      "text/plain": [
       "(array([[-0.10454337],\n",
       "        [ 0.09191195]]), array([[-0.11821158]]))"
      ]
     },
     "execution_count": 58,
     "metadata": {},
     "output_type": "execute_result"
    }
   ],
   "source": [
    "weights = 2*np.random.random((2,1)) - 1\n",
    "bais = 2*np.random.random((1,1)) - 1\n",
    "lr = 0.001\n",
    "weights,bais"
   ]
  },
  {
   "cell_type": "code",
   "execution_count": 59,
   "metadata": {},
   "outputs": [
    {
     "data": {
      "text/plain": [
       "(array([[2.61477707],\n",
       "        [2.61525462]]), array([[-4.04832182]]), array([[0.],\n",
       "        [0.],\n",
       "        [0.],\n",
       "        [1.]]))"
      ]
     },
     "execution_count": 59,
     "metadata": {},
     "output_type": "execute_result"
    }
   ],
   "source": [
    "for itter in range(100000):\n",
    "    output0 = x\n",
    "    output1 = sigmoid(np.dot(output0,weights) + bais)\n",
    "#     print(output0.shape)\n",
    "    \n",
    "    first_term = output1 - y\n",
    "    input_of_last_term =  np.dot(output0,weights) + bais\n",
    "    second_term = derivativeSig(input_of_last_term)\n",
    "    first_two_term = first_term * second_term\n",
    "#     print(first_two_term.shape)\n",
    "    \n",
    "    changes = np.zeros((2,1))\n",
    "    \n",
    "    changes = np.dot(output0.T ,first_two_term)\n",
    "\n",
    "    weights = weights - lr * changes\n",
    "    \n",
    "    bais = bais - np.sum(first_two_term) * lr\n",
    "    \n",
    "output1 = sigmoid(np.dot(x,weights) + bais)    \n",
    "weights,bais,np.around(output1)    \n",
    "    "
   ]
  },
  {
   "cell_type": "code",
   "execution_count": 61,
   "metadata": {},
   "outputs": [
    {
     "data": {
      "text/plain": [
       "array([[0.0168581 ],\n",
       "       [0.15551829],\n",
       "       [0.15547264],\n",
       "       [0.17963973]])"
      ]
     },
     "execution_count": 61,
     "metadata": {},
     "output_type": "execute_result"
    }
   ],
   "source": [
    "t = np.zeros((2,1))\n",
    "t.shape,t\n",
    "P = np.dot(output0,weights) + bais\n",
    "derivativeSig(P)"
   ]
  },
  {
   "cell_type": "code",
   "execution_count": null,
   "metadata": {},
   "outputs": [],
   "source": [
    "    for i in range(2):\n",
    "        for j in range(4):\n",
    "            changes[i][0] += output0[j][i] * first_two_term[j][0]"
   ]
  }
 ],
 "metadata": {
  "kernelspec": {
   "display_name": "Python 3",
   "language": "python",
   "name": "python3"
  },
  "language_info": {
   "codemirror_mode": {
    "name": "ipython",
    "version": 3
   },
   "file_extension": ".py",
   "mimetype": "text/x-python",
   "name": "python",
   "nbconvert_exporter": "python",
   "pygments_lexer": "ipython3",
   "version": "3.7.3"
  }
 },
 "nbformat": 4,
 "nbformat_minor": 2
}
