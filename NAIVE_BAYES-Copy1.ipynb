{
 "cells": [
  {
   "cell_type": "code",
   "execution_count": 70,
   "metadata": {},
   "outputs": [],
   "source": [
    "import numpy as np"
   ]
  },
  {
   "cell_type": "code",
   "execution_count": 71,
   "metadata": {},
   "outputs": [],
   "source": [
    "def fit(X_train,Y_train):\n",
    "    result={}\n",
    "    result['total_data']=len(Y_train)\n",
    "    class_values=set(Y_train)\n",
    "    for current_class in class_values:\n",
    "        result[current_class]={}\n",
    "        current_class_rows = (Y_train == current_class)\n",
    "        current_x_rows = X_train[current_class_rows]\n",
    "        current_y_rows = Y_train[current_class_rows]\n",
    "        result[current_class]['total_count'] = len(current_y_rows)\n",
    "        for i in range(X_train.shape[1]):\n",
    "            result[current_class][i]={}\n",
    "            data=set(X_train[:,i])\n",
    "            for j in data:\n",
    "                result[current_class][i][j] = (current_x_rows[:,i] == j).sum()\n",
    "    return(result)"
   ]
  },
  {
   "cell_type": "code",
   "execution_count": 117,
   "metadata": {},
   "outputs": [],
   "source": [
    "def probability_pr_class(dictionary,row):\n",
    "    output=np.log(dictionary[current_class][\"total_count\"]) - np.log(dictionary[\"total_data\"])\n",
    "        for j in range(row.shape[0]):\n",
    "            val=row[j]\n",
    "            current_class_val_count = dictionary[i][j][val]+1\n",
    "            prob_pr_class = current_class_val_count / dictionary[i]['total_count']\n",
    "            output=output * prob_pr_class\n",
    "    return output"
   ]
  },
  {
   "cell_type": "code",
   "execution_count": null,
   "metadata": {},
   "outputs": [],
   "source": [
    "def probability(dictionary,row):\n",
    "    max_probability = -1000\n",
    "    classes = len(dictionary.keys()) \n",
    "    for i in range(classes): \n",
    "        if i == 'total_count':\n",
    "            continue\n",
    "        if max_probabilty < probability_pr_class(dictionary , row , i):\n",
    "            max_probaility =  probability_pr_class(dictionary , row , i)\n",
    "            probable_class = i\n",
    "    "
   ]
  },
  {
   "cell_type": "code",
   "execution_count": 118,
   "metadata": {},
   "outputs": [],
   "source": [
    "def pridict(dictionary,x):\n",
    "    for i in x:\n",
    "        probs=point_probability(dictionary,i)\n",
    "\n",
    "        #print(probs)"
   ]
  },
  {
   "cell_type": "code",
   "execution_count": null,
   "metadata": {
    "scrolled": true
   },
   "outputs": [],
   "source": [
    "from sklearn.datasets import load_iris\n",
    "data=load_iris()\n",
    "x=data.data\n",
    "y=data.target\n",
    "print(type(x))\n",
    "#dictionary=fit(x,y)\n",
    "print(x.shape)\n",
    "#print('sajkndksa---',dictionary.keys())\n",
    "#pridict(dictionary,x)"
   ]
  },
  {
   "cell_type": "code",
   "execution_count": null,
   "metadata": {},
   "outputs": [],
   "source": []
  }
 ],
 "metadata": {
  "kernelspec": {
   "display_name": "Python 3",
   "language": "python",
   "name": "python3"
  },
  "language_info": {
   "codemirror_mode": {
    "name": "ipython",
    "version": 3
   },
   "file_extension": ".py",
   "mimetype": "text/x-python",
   "name": "python",
   "nbconvert_exporter": "python",
   "pygments_lexer": "ipython3",
   "version": "3.7.3"
  }
 },
 "nbformat": 4,
 "nbformat_minor": 2
}
