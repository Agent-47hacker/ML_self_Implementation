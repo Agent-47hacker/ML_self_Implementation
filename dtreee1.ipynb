{
 "cells": [
  {
   "cell_type": "markdown",
   "metadata": {},
   "source": [
    "<h1>Decision Tree</h1>"
   ]
  },
  {
   "cell_type": "code",
   "execution_count": 1,
   "metadata": {},
   "outputs": [],
   "source": [
    "# or gate\n",
    "import numpy as np\n",
    "import pandas as pd\n",
    "from sklearn import datasets\n",
    "import math\n",
    "from scipy.stats import entropy as epy"
   ]
  },
  {
   "cell_type": "code",
   "execution_count": 2,
   "metadata": {},
   "outputs": [],
   "source": [
    "iris = datasets.load_iris()"
   ]
  },
  {
   "cell_type": "code",
   "execution_count": 3,
   "metadata": {},
   "outputs": [
    {
     "name": "stderr",
     "output_type": "stream",
     "text": [
      "C:\\Users\\hello\\Anaconda3\\lib\\site-packages\\ipykernel_launcher.py:5: UserWarning: Pandas doesn't allow columns to be created via a new attribute name - see https://pandas.pydata.org/pandas-docs/stable/indexing.html#attribute-access\n",
      "  \"\"\"\n"
     ]
    }
   ],
   "source": [
    "df = np.array([[True,True],[False,True],[True,False],[False,False]])\n",
    "df = pd.DataFrame(df)\n",
    "y =np.array([True,True,True,False])\n",
    "y = pd.DataFrame(y)\n",
    "df.colums = [0,1]"
   ]
  },
  {
   "cell_type": "code",
   "execution_count": 4,
   "metadata": {},
   "outputs": [],
   "source": [
    "def val_counts(y):\n",
    "    return [y.value_counts().values][0]"
   ]
  },
  {
   "cell_type": "code",
   "execution_count": 5,
   "metadata": {},
   "outputs": [],
   "source": [
    "def entropy(y):\n",
    "    Entropy = 0\n",
    "    a = val_counts(y)\n",
    "    for i in a:\n",
    "        pk = (i)/len(y)\n",
    "        Entropy += -pk*math.log2(pk)\n",
    "    return Entropy"
   ]
  },
  {
   "cell_type": "code",
   "execution_count": 6,
   "metadata": {},
   "outputs": [],
   "source": [
    "def information_gain(df ,y,f,e):\n",
    "    possible_values = set(df[f])\n",
    "    _len = len(y[0])\n",
    "    gain = 0\n",
    "    for p in possible_values:\n",
    "        current_class_rows = (df[f] == p)\n",
    "        gain += (len(current_class_rows)/_len)*entropy(y[0][current_class_rows])\n",
    "    gain = e - gain\n",
    "    return gain"
   ]
  },
  {
   "cell_type": "code",
   "execution_count": 7,
   "metadata": {},
   "outputs": [],
   "source": [
    "def gr(df,f,y,e):\n",
    "    gr = 0\n",
    "    split_info = 0\n",
    "    info = 0\n",
    "    split_info = entropy(df[f])\n",
    "    info = information_gain(df ,y,f,e)\n",
    "    gr = info/split_info\n",
    "    return gr"
   ]
  },
  {
   "cell_type": "code",
   "execution_count": 17,
   "metadata": {},
   "outputs": [],
   "source": [
    "def leaf(y,l):\n",
    "    print('\\n level',l )\n",
    "    print(y[0].value_counts())\n",
    "    print('Entropy = ',entropy(y[0]))\n",
    "    print ('reached leaf ')\n",
    "    print(y[0].value_counts().idxmax())\n",
    "    "
   ]
  },
  {
   "cell_type": "code",
   "execution_count": 21,
   "metadata": {},
   "outputs": [],
   "source": [
    "class build_tree:\n",
    "    def __init__(self ,df, y, unused_features,l):\n",
    "        self.feature = ''\n",
    "        self.dict = {}\n",
    "        self.majority = None\n",
    "\n",
    "        if y[0].value_counts().count() == 1:\n",
    "            leaf(y,l)\n",
    "            self.majority = y[0].value_counts().idxmax()\n",
    "\n",
    "        elif not unused_features:\n",
    "            leaf(y,l)\n",
    "            self.majority = y[0].value_counts().idxmax()\n",
    "        else:\n",
    "            e,best_feature,max_correctness = 0,0,0\n",
    "            print(' \\n level',l )\n",
    "            e = entropy(y[0])\n",
    "            print('Entropy = ',e)\n",
    "            print(y[0].value_counts())\n",
    "            for f in unused_features:\n",
    "                gain_ratio = 0\n",
    "    #             correct_count = subsetter(df ,y, f,correct_count)\n",
    "                gain_ratio = gr(df,f,y,e) \n",
    "\n",
    "                if gain_ratio > max_correctness:\n",
    "                    max_correctness = gain_ratio\n",
    "                    best_feature = f\n",
    "            print(\"Best Feature \",best_feature)\n",
    "            unused_features.remove(best_feature)\n",
    "            self.feature = best_feature\n",
    "            self.majority = y[0].value_counts().idxmax()\n",
    "            possible_values = set(df[best_feature])\n",
    "            for p in possible_values :\n",
    "                current_class_rows = (df[best_feature] == p)\n",
    "                current_x_rows = df[best_feature][current_class_rows]\n",
    "                current_y_rows = y[current_class_rows]\n",
    "    #            print(current_y_rows[0].value_counts())\n",
    "                self.dict[best_feature] = {}\n",
    "                self.dict[best_feature][p] = build_tree(df[current_class_rows],y[current_class_rows],unused_features,l+1)\n",
    "            \n",
    "    def print_tree(self):\n",
    "        if self!=None:\n",
    "            self.printInorder(self)\n",
    "            \n",
    "    def printInorder(self,cur): \n",
    "        if cur:\n",
    "            for i in cur.dict:\n",
    "                print(cur.feature)\n",
    "                print(cur.majority)"
   ]
  },
  {
   "cell_type": "code",
   "execution_count": 22,
   "metadata": {
    "scrolled": true
   },
   "outputs": [
    {
     "name": "stdout",
     "output_type": "stream",
     "text": [
      "[0, 1]\n",
      " \n",
      " level 0\n",
      "Entropy =  0.8112781244591328\n",
      "True     3\n",
      "False    1\n",
      "Name: 0, dtype: int64\n",
      "Best Feature  0\n",
      " \n",
      " level 1\n",
      "Entropy =  1.0\n",
      "True     1\n",
      "False    1\n",
      "Name: 0, dtype: int64\n",
      "Best Feature  1\n",
      "\n",
      " level 2\n",
      "False    1\n",
      "Name: 0, dtype: int64\n",
      "Entropy =  0.0\n",
      "reached leaf \n",
      "False\n",
      "\n",
      " level 2\n",
      "True    1\n",
      "Name: 0, dtype: int64\n",
      "Entropy =  0.0\n",
      "reached leaf \n",
      "True\n",
      "\n",
      " level 1\n",
      "True    2\n",
      "Name: 0, dtype: int64\n",
      "Entropy =  0.0\n",
      "reached leaf \n",
      "True\n"
     ]
    }
   ],
   "source": [
    "l=0\n",
    "unused_features = list(set(df.columns))\n",
    "print(unused_features)\n",
    "t = build_tree(df, y, unused_features,l)\n"
   ]
  },
  {
   "cell_type": "code",
   "execution_count": 23,
   "metadata": {},
   "outputs": [
    {
     "name": "stdout",
     "output_type": "stream",
     "text": [
      "0\n",
      "True\n"
     ]
    }
   ],
   "source": [
    "t.print_tree()"
   ]
  },
  {
   "cell_type": "code",
   "execution_count": 3,
   "metadata": {},
   "outputs": [
    {
     "data": {
      "text/plain": [
       "[4325,\n",
       " 3416,\n",
       " 1061,\n",
       " 4007,\n",
       " 4217,\n",
       " 3298,\n",
       " 4250,\n",
       " 1636,\n",
       " 1107,\n",
       " 4118,\n",
       " 1632,\n",
       " 1230,\n",
       " 2571,\n",
       " 1352,\n",
       " 3407,\n",
       " 1874,\n",
       " 4381,\n",
       " 3429]"
      ]
     },
     "execution_count": 3,
     "metadata": {},
     "output_type": "execute_result"
    }
   ],
   "source": [
    "c = 18\n",
    "n = [4325,3416,1061,4007,4217,3298,4250,1636,1107,4118,1632,1230,2571,1352,3407,1874,4381,3429] \n",
    "n"
   ]
  },
  {
   "cell_type": "code",
   "execution_count": 5,
   "metadata": {},
   "outputs": [
    {
     "data": {
      "text/plain": [
       "[1061,\n",
       " 1107,\n",
       " 1230,\n",
       " 1352,\n",
       " 1632,\n",
       " 1636,\n",
       " 1874,\n",
       " 2571,\n",
       " 3298,\n",
       " 3407,\n",
       " 3416,\n",
       " 4007,\n",
       " 4118,\n",
       " 4217,\n",
       " 4250,\n",
       " 4325,\n",
       " 4381,\n",
       " 3429]"
      ]
     },
     "execution_count": 5,
     "metadata": {},
     "output_type": "execute_result"
    }
   ],
   "source": [
    "for i in range(c): \n",
    "    min_idx = i \n",
    "    for j in range(i+1, c-1): \n",
    "        if n[min_idx] > n[j]: \n",
    "            min_idx = j \n",
    " \n",
    "    n[i], n[min_idx] = n[min_idx], n[i]\n",
    "n"
   ]
  },
  {
   "cell_type": "code",
   "execution_count": 160,
   "metadata": {},
   "outputs": [],
   "source": [
    "# finding subsets of a column and target data\n",
    "# iterator\n",
    "def subsetter(df ,y, f,correct_count):\n",
    "    possible_values = set(df[f])\n",
    "    for p in possible_values :\n",
    "        current_class_rows = (df[f] == p)\n",
    "        current_x_rows = df[f][current_class_rows]\n",
    "        current_y_rows = y[current_class_rows]\n",
    "        correct_count += current_y_rows[0].value_counts().max()\n",
    "    return correct_count\n",
    "    "
   ]
  },
  {
   "cell_type": "code",
   "execution_count": 155,
   "metadata": {},
   "outputs": [
    {
     "name": "stdout",
     "output_type": "stream",
     "text": [
      "True\n"
     ]
    },
    {
     "ename": "AttributeError",
     "evalue": "'DataFrame' object has no attribute 'value_counts'",
     "output_type": "error",
     "traceback": [
      "\u001b[1;31m---------------------------------------------------------------------------\u001b[0m",
      "\u001b[1;31mAttributeError\u001b[0m                            Traceback (most recent call last)",
      "\u001b[1;32m<ipython-input-155-2ea34b0d743a>\u001b[0m in \u001b[0;36m<module>\u001b[1;34m\u001b[0m\n\u001b[0;32m      3\u001b[0m \u001b[0ma\u001b[0m \u001b[1;33m=\u001b[0m \u001b[0my\u001b[0m\u001b[1;33m[\u001b[0m\u001b[1;36m0\u001b[0m\u001b[1;33m]\u001b[0m\u001b[1;33m.\u001b[0m\u001b[0mvalue_counts\u001b[0m\u001b[1;33m(\u001b[0m\u001b[1;33m)\u001b[0m\u001b[1;33m.\u001b[0m\u001b[0midxmax\u001b[0m\u001b[1;33m(\u001b[0m\u001b[1;33m)\u001b[0m\u001b[1;33m\u001b[0m\u001b[1;33m\u001b[0m\u001b[0m\n\u001b[0;32m      4\u001b[0m \u001b[0mprint\u001b[0m\u001b[1;33m(\u001b[0m\u001b[0ma\u001b[0m\u001b[1;33m)\u001b[0m\u001b[1;33m\u001b[0m\u001b[1;33m\u001b[0m\u001b[0m\n\u001b[1;32m----> 5\u001b[1;33m \u001b[0ma\u001b[0m \u001b[1;33m=\u001b[0m \u001b[1;33m[\u001b[0m\u001b[0my\u001b[0m\u001b[1;33m.\u001b[0m\u001b[0mvalue_counts\u001b[0m\u001b[1;33m(\u001b[0m\u001b[1;33m)\u001b[0m\u001b[1;33m.\u001b[0m\u001b[0mvalues\u001b[0m\u001b[1;33m]\u001b[0m\u001b[1;33m[\u001b[0m\u001b[1;36m0\u001b[0m\u001b[1;33m]\u001b[0m\u001b[1;33m\u001b[0m\u001b[1;33m\u001b[0m\u001b[0m\n\u001b[0m\u001b[0;32m      6\u001b[0m \u001b[1;32mfor\u001b[0m \u001b[0mi\u001b[0m \u001b[1;32min\u001b[0m \u001b[0ma\u001b[0m \u001b[1;33m:\u001b[0m\u001b[1;33m\u001b[0m\u001b[1;33m\u001b[0m\u001b[0m\n\u001b[0;32m      7\u001b[0m     \u001b[0mprint\u001b[0m\u001b[1;33m(\u001b[0m\u001b[0mi\u001b[0m\u001b[1;33m)\u001b[0m\u001b[1;33m\u001b[0m\u001b[1;33m\u001b[0m\u001b[0m\n",
      "\u001b[1;32m~\\Anaconda3\\lib\\site-packages\\pandas\\core\\generic.py\u001b[0m in \u001b[0;36m__getattr__\u001b[1;34m(self, name)\u001b[0m\n\u001b[0;32m   5065\u001b[0m             \u001b[1;32mif\u001b[0m \u001b[0mself\u001b[0m\u001b[1;33m.\u001b[0m\u001b[0m_info_axis\u001b[0m\u001b[1;33m.\u001b[0m\u001b[0m_can_hold_identifiers_and_holds_name\u001b[0m\u001b[1;33m(\u001b[0m\u001b[0mname\u001b[0m\u001b[1;33m)\u001b[0m\u001b[1;33m:\u001b[0m\u001b[1;33m\u001b[0m\u001b[1;33m\u001b[0m\u001b[0m\n\u001b[0;32m   5066\u001b[0m                 \u001b[1;32mreturn\u001b[0m \u001b[0mself\u001b[0m\u001b[1;33m[\u001b[0m\u001b[0mname\u001b[0m\u001b[1;33m]\u001b[0m\u001b[1;33m\u001b[0m\u001b[1;33m\u001b[0m\u001b[0m\n\u001b[1;32m-> 5067\u001b[1;33m             \u001b[1;32mreturn\u001b[0m \u001b[0mobject\u001b[0m\u001b[1;33m.\u001b[0m\u001b[0m__getattribute__\u001b[0m\u001b[1;33m(\u001b[0m\u001b[0mself\u001b[0m\u001b[1;33m,\u001b[0m \u001b[0mname\u001b[0m\u001b[1;33m)\u001b[0m\u001b[1;33m\u001b[0m\u001b[1;33m\u001b[0m\u001b[0m\n\u001b[0m\u001b[0;32m   5068\u001b[0m \u001b[1;33m\u001b[0m\u001b[0m\n\u001b[0;32m   5069\u001b[0m     \u001b[1;32mdef\u001b[0m \u001b[0m__setattr__\u001b[0m\u001b[1;33m(\u001b[0m\u001b[0mself\u001b[0m\u001b[1;33m,\u001b[0m \u001b[0mname\u001b[0m\u001b[1;33m,\u001b[0m \u001b[0mvalue\u001b[0m\u001b[1;33m)\u001b[0m\u001b[1;33m:\u001b[0m\u001b[1;33m\u001b[0m\u001b[1;33m\u001b[0m\u001b[0m\n",
      "\u001b[1;31mAttributeError\u001b[0m: 'DataFrame' object has no attribute 'value_counts'"
     ]
    }
   ],
   "source": [
    "#PANDAS DATAFRAME FREQUENCY OF EACHA VALUE IN A COULMN THEN ITS MAX INDEX\n",
    "df[1].value_counts()\n",
    "a = y[0].value_counts().idxmax()\n",
    "print(a)\n",
    "a = [y.value_counts().values][0]\n",
    "for i in a :\n",
    "    print(i)"
   ]
  }
 ],
 "metadata": {
  "kernelspec": {
   "display_name": "Python 3",
   "language": "python",
   "name": "python3"
  },
  "language_info": {
   "codemirror_mode": {
    "name": "ipython",
    "version": 3
   },
   "file_extension": ".py",
   "mimetype": "text/x-python",
   "name": "python",
   "nbconvert_exporter": "python",
   "pygments_lexer": "ipython3",
   "version": "3.7.3"
  }
 },
 "nbformat": 4,
 "nbformat_minor": 2
}
